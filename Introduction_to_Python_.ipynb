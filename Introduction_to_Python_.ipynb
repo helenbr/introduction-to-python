{
  "nbformat": 4,
  "nbformat_minor": 0,
  "metadata": {
    "colab": {
      "provenance": [],
      "collapsed_sections": [
        "b7Xt73ZMBnKK",
        "s37p3u6DnhSf",
        "fVUjOL6cnl8F",
        "qQcu_TV2ZFTv",
        "vJKKSGv1oMaD",
        "LHccFJwHr6Z_",
        "zDqZjzvNh2aV",
        "quQrx2lptZ51",
        "A2eVlIW88bac",
        "SuP3ptS8TUQI",
        "CUuiWO-uXl3-",
        "eEvUT6hAGgFK",
        "6VRgpoG1F_t0",
        "3AFm45_x4xtB",
        "DbJgC21ems39",
        "boA5qt7TYUVI",
        "zYmqDB9Iq6OB",
        "-rRY_C_6rR5U",
        "j4dbUUPfvIUm",
        "X4BAAUcX0NNP",
        "2tMyLuLH0XD1",
        "i5IQHIG9470b"
      ]
    },
    "kernelspec": {
      "name": "python3",
      "display_name": "Python 3"
    },
    "language_info": {
      "name": "python"
    }
  },
  "cells": [
    {
      "cell_type": "markdown",
      "metadata": {
        "id": "b7Xt73ZMBnKK"
      },
      "source": [
        "# Introduction"
      ]
    },
    {
      "cell_type": "markdown",
      "metadata": {
        "id": "s37p3u6DnhSf"
      },
      "source": [
        "## Variable types"
      ]
    },
    {
      "cell_type": "markdown",
      "metadata": {
        "id": "KdewOoCTCaQT"
      },
      "source": [
        "Ο τύπος μιας μεταβλητής στην Python αναγνωρίζεται αυτόματα. Δεν χρειάζεται χειροκίνητη δήλωση. "
      ]
    },
    {
      "cell_type": "code",
      "metadata": {
        "id": "HePWDbFb8ILW"
      },
      "source": [
        "x = 5  # integer\n",
        "print(\"x = {} \\t type : {}\".format(x, type(x)))\n",
        "\n",
        "x = 5.0  # float\n",
        "print(\"x = {} \\t type : {}\".format(x, type(x)))\n",
        "\n",
        "x = 5 + 6j  # complex\n",
        "print(\"x = {} \\t type : {}\".format(x, type(x)))\n",
        "\n",
        "x = \"Hello World\"  # string\n",
        "print(\"x = {} \\t type : {}\".format(x, type(x)))\n",
        "\n",
        "x = True  # boolean\n",
        "print(\"x = {} \\t type : {}\".format(x, type(x)))"
      ],
      "execution_count": null,
      "outputs": []
    },
    {
      "cell_type": "markdown",
      "metadata": {
        "id": "fVUjOL6cnl8F"
      },
      "source": [
        "## Type Casting"
      ]
    },
    {
      "cell_type": "markdown",
      "metadata": {
        "id": "tZPkJUMCFzvo"
      },
      "source": [
        "Όπως και στις περισσότερες γλώσσες μπορείς να μετατρέπεις μεταβλητές απο έναν τύπο σε έναν άλλον"
      ]
    },
    {
      "cell_type": "code",
      "metadata": {
        "id": "V9iOeDlXGGqn"
      },
      "source": [
        "# convert a float to an int\n",
        "\n",
        "x = int(25.0) \n",
        "print(\"x = {} \\t type : {}\".format(x, type(x)))"
      ],
      "execution_count": null,
      "outputs": []
    },
    {
      "cell_type": "code",
      "metadata": {
        "id": "YlJAi7hrHcDF"
      },
      "source": [
        "# convert a float to string\n",
        "\n",
        "x = \"My age is \" + str(25.0)\n",
        "print(x)"
      ],
      "execution_count": null,
      "outputs": []
    },
    {
      "cell_type": "markdown",
      "metadata": {
        "id": "qQcu_TV2ZFTv"
      },
      "source": [
        "## Operators"
      ]
    },
    {
      "cell_type": "markdown",
      "metadata": {
        "id": "j2Ebr5SWKuw1"
      },
      "source": [
        "Arithmetic operators\n",
        "\n",
        "\n",
        "*   +, -\n",
        "*   *, /\n",
        "*   %\n",
        "*   **, //\n",
        "\n"
      ]
    },
    {
      "cell_type": "code",
      "metadata": {
        "id": "s6CGCCNvMkIS"
      },
      "source": [
        "x,y = 10, 6"
      ],
      "execution_count": null,
      "outputs": []
    },
    {
      "cell_type": "code",
      "metadata": {
        "id": "gIlYFhn-Q9BZ"
      },
      "source": [
        "x % y"
      ],
      "execution_count": null,
      "outputs": []
    },
    {
      "cell_type": "code",
      "metadata": {
        "id": "W5cjqUjCRAPL"
      },
      "source": [
        "x ** y  # exponentiation"
      ],
      "execution_count": null,
      "outputs": []
    },
    {
      "cell_type": "code",
      "metadata": {
        "id": "WvKo6tA4XmuZ"
      },
      "source": [
        "x // y  # floor division"
      ],
      "execution_count": null,
      "outputs": []
    },
    {
      "cell_type": "markdown",
      "metadata": {
        "id": "-Tbc083VWZQC"
      },
      "source": [
        "Assignment operators\n",
        "\n",
        "\n",
        "*   =\n",
        "*   +=, -=\n",
        "*   *=, /=\n",
        "*   %=\n",
        "*   **=, //="
      ]
    },
    {
      "cell_type": "code",
      "metadata": {
        "id": "CCSQlyr7Xdf-"
      },
      "source": [
        "x = 1"
      ],
      "execution_count": null,
      "outputs": []
    },
    {
      "cell_type": "code",
      "metadata": {
        "id": "WHpHfgA5XmEJ"
      },
      "source": [
        "x += 1  # there are no ++,-- operators in python\n",
        "x"
      ],
      "execution_count": null,
      "outputs": []
    },
    {
      "cell_type": "code",
      "metadata": {
        "id": "RF4dF0hGX7UP"
      },
      "source": [
        "x **= 2\n",
        "x"
      ],
      "execution_count": null,
      "outputs": []
    },
    {
      "cell_type": "markdown",
      "metadata": {
        "id": "kabpdm9-U0n1"
      },
      "source": [
        "Comparison operators\n",
        "\n",
        "\n",
        "*   ==, !=\n",
        "*   <, >\n",
        "*   <=, >="
      ]
    },
    {
      "cell_type": "code",
      "metadata": {
        "id": "a-CKeEZBVrl1"
      },
      "source": [
        "x,y = 10, 6"
      ],
      "execution_count": null,
      "outputs": []
    },
    {
      "cell_type": "code",
      "metadata": {
        "id": "07BXNNKdWFqa"
      },
      "source": [
        "x == y"
      ],
      "execution_count": null,
      "outputs": []
    },
    {
      "cell_type": "code",
      "metadata": {
        "id": "mz-hh9APWIgA"
      },
      "source": [
        "x != y"
      ],
      "execution_count": null,
      "outputs": []
    },
    {
      "cell_type": "markdown",
      "metadata": {
        "id": "m4CxE0BgYSef"
      },
      "source": [
        "Logical operators\n",
        "\n",
        "\n",
        "*   and\n",
        "*   or\n",
        "*   not"
      ]
    },
    {
      "cell_type": "code",
      "metadata": {
        "id": "g3WlLv7HYb6f"
      },
      "source": [
        "True and False"
      ],
      "execution_count": null,
      "outputs": []
    },
    {
      "cell_type": "code",
      "metadata": {
        "id": "nX-lnJgpYt_V"
      },
      "source": [
        "True or False"
      ],
      "execution_count": null,
      "outputs": []
    },
    {
      "cell_type": "code",
      "metadata": {
        "id": "qPsjl05LYwj7"
      },
      "source": [
        "not True"
      ],
      "execution_count": null,
      "outputs": []
    },
    {
      "cell_type": "markdown",
      "metadata": {
        "id": "96mUmFF6YVTP"
      },
      "source": [
        "Membership operators\n",
        "\n",
        "\n",
        "*   in\n",
        "*   not in\n",
        "\n"
      ]
    },
    {
      "cell_type": "code",
      "metadata": {
        "id": "BQCcoS0jYvum"
      },
      "source": [
        "x = \"Hello world\"\n",
        "\n",
        "print('wor' in x)  # true if a sequence with a specified value is present\n",
        "print('Hello' not in x)  # true if a sequence with a specified value is NOT present\n"
      ],
      "execution_count": null,
      "outputs": []
    },
    {
      "cell_type": "markdown",
      "metadata": {
        "id": "aEWG2L7bZRU0"
      },
      "source": [
        "Identity operators\n",
        "\n",
        "*  is\n",
        "*  is not"
      ]
    },
    {
      "cell_type": "code",
      "metadata": {
        "id": "egfbdA4qZpc1"
      },
      "source": [
        "x = 260\n",
        "y = 260\n",
        "\n",
        "print( y == x)\n",
        "\n",
        "# x and y are equal but are different objects \n",
        "# i.e., not stored in the same memory address\n",
        "print(y is x)\n",
        "print(y is not x)"
      ],
      "execution_count": null,
      "outputs": []
    },
    {
      "cell_type": "markdown",
      "metadata": {
        "id": "vJKKSGv1oMaD"
      },
      "source": [
        "## Input - Output"
      ]
    },
    {
      "cell_type": "markdown",
      "metadata": {
        "id": "Vgnh442s5ZI_"
      },
      "source": [
        "Η python υποστηρίζει εισαγωγή δεδομένων απο το πληκτρολόγιο και εμφάνιση μηνυμάτων στην οθόνη."
      ]
    },
    {
      "cell_type": "code",
      "metadata": {
        "id": "b02un3RioKcC"
      },
      "source": [
        "# get and print user input\n",
        "\n",
        "x = input(\"What is your age \")\n",
        "print(\"My age is \", x)\n",
        "\n",
        "print(\"Type of input: \", type(x))  # input() always returns a string"
      ],
      "execution_count": null,
      "outputs": []
    },
    {
      "cell_type": "code",
      "metadata": {
        "id": "O77uWxDw7UjU"
      },
      "source": [
        "# so, sometimes you need to convert user input\n",
        "\n",
        "x = int(input(\"What is your age \"))\n",
        "print(\"In 10 years you will be\", x + 10)"
      ],
      "execution_count": null,
      "outputs": []
    },
    {
      "cell_type": "markdown",
      "metadata": {
        "id": "LHccFJwHr6Z_"
      },
      "source": [
        "# Built-in Data Structures"
      ]
    },
    {
      "cell_type": "markdown",
      "metadata": {
        "id": "uxmuoRQPHd1d"
      },
      "source": [
        "\n",
        "\n",
        "*   list = [1, 2, 3, 4, 5]\n",
        "\n",
        "*   tuple = (1, 2, 3, 4, 5)\n",
        "\n",
        "*   set = {1, 2, 3, 4, 5}\n",
        "\n",
        "*   dictionary = {\"key\" : \"val\"}\n"
      ]
    },
    {
      "cell_type": "markdown",
      "metadata": {
        "id": "zDqZjzvNh2aV"
      },
      "source": [
        "## Lists"
      ]
    },
    {
      "cell_type": "markdown",
      "metadata": {
        "id": "noJaCZEFsk9d"
      },
      "source": [
        "\n",
        "*   ordered\n",
        "*   indexed\n",
        "*   mutable\n",
        "*   heterogeneous\n",
        "*   allow duplicate values"
      ]
    },
    {
      "cell_type": "markdown",
      "metadata": {
        "id": "5TlQYHQm2C-l"
      },
      "source": [
        "> Create a list"
      ]
    },
    {
      "cell_type": "code",
      "metadata": {
        "id": "MHjnNigEt9M1"
      },
      "source": [
        "# create an empty list\n",
        "\n",
        "myList = []\n",
        "print(type(myList))\n",
        "\n",
        "#  or\n",
        "\n",
        "myList = list()\n",
        "print(type(myList))"
      ],
      "execution_count": null,
      "outputs": []
    },
    {
      "cell_type": "code",
      "metadata": {
        "id": "gzaOcCfmvsQ1"
      },
      "source": [
        "# create a non-empty list\n",
        "\n",
        "myList = [1, 'Hello World', 25.0, True]\n",
        "print(myList)\n",
        "\n",
        "# or\n",
        "\n",
        "myList = list((1, 'Hello World', 25.0, True))\n",
        "print(myList)"
      ],
      "execution_count": null,
      "outputs": []
    },
    {
      "cell_type": "markdown",
      "metadata": {
        "id": "4mTtNKdsztzy"
      },
      "source": [
        "> Unpack a list"
      ]
    },
    {
      "cell_type": "code",
      "metadata": {
        "id": "rVCKz8VVzGxU"
      },
      "source": [
        "# unpack = extract items into variables\n",
        "\n",
        "(a,b,c,d) = myList\n",
        "print(a,b,c,d)\n",
        "\n",
        "# If the number of variables is less than the number \n",
        "# of items, you can add an * to the last variable, which\n",
        "# will become a  list with the rest of the items\n",
        "(a,*b) = myList\n",
        "print(a,b)"
      ],
      "execution_count": null,
      "outputs": []
    },
    {
      "cell_type": "markdown",
      "metadata": {
        "id": "63EdQEHj0BJ5"
      },
      "source": [
        "\n",
        "> Add items\n",
        "\n"
      ]
    },
    {
      "cell_type": "code",
      "metadata": {
        "id": "9HsNPqQEwA6A"
      },
      "source": [
        "# add an item to the end of the list\n",
        "\n",
        "myList.append('Another Item')\n",
        "print(myList)"
      ],
      "execution_count": null,
      "outputs": []
    },
    {
      "cell_type": "code",
      "metadata": {
        "id": "4geTiRgnzDYi"
      },
      "source": [
        "# insert an item at a specified index\n",
        "\n",
        "myList.insert(3, 'Here')\n",
        "print(myList)"
      ],
      "execution_count": null,
      "outputs": []
    },
    {
      "cell_type": "code",
      "metadata": {
        "id": "pyH3IxIloUKH"
      },
      "source": [
        "# the extend() method inserts the items of an iterable(list,tuple,set,string,range) into the list\n",
        "\n",
        "myList.extend([\"This\", \"is\", \"another\",\"list\"])  \n",
        "print(myList)\n",
        "\n",
        "myList.extend(range(5))  \n",
        "print(myList)"
      ],
      "execution_count": null,
      "outputs": []
    },
    {
      "cell_type": "markdown",
      "metadata": {
        "id": "D4F0l1oe0RQD"
      },
      "source": [
        "\n",
        "\n",
        "> Remove items\n",
        "\n"
      ]
    },
    {
      "cell_type": "code",
      "metadata": {
        "id": "n1eF1p_nwIEO"
      },
      "source": [
        "# remove the item found at a specified index\n",
        "\n",
        "myList.pop()  # removes last item\n",
        "myList.pop(2)  # removes item at position 2\n",
        "print(myList)"
      ],
      "execution_count": null,
      "outputs": []
    },
    {
      "cell_type": "code",
      "metadata": {
        "id": "oLUyb87k1GqK"
      },
      "source": [
        "# also remove the item found at a specified index\n",
        "\n",
        "del myList[0]\n",
        "print(myList)"
      ],
      "execution_count": null,
      "outputs": []
    },
    {
      "cell_type": "code",
      "metadata": {
        "id": "b_QttPwb0qEU"
      },
      "source": [
        "# remove the specified item\n",
        "\n",
        "myList.remove('Here')\n",
        "print(myList)"
      ],
      "execution_count": null,
      "outputs": []
    },
    {
      "cell_type": "markdown",
      "metadata": {
        "id": "pk580kgL3yPm"
      },
      "source": [
        "\n",
        "\n",
        "> Join lists\n",
        "\n"
      ]
    },
    {
      "cell_type": "code",
      "metadata": {
        "id": "LZrmCXwB31Z8"
      },
      "source": [
        "# using the + operator\n",
        "\n",
        "list1 = [1, 2, 3, 4, 5]\n",
        "list2 = [4, 5, 6, 7, 8]\n",
        "\n",
        "list1 + list2"
      ],
      "execution_count": null,
      "outputs": []
    },
    {
      "cell_type": "code",
      "metadata": {
        "id": "c_U3hl_06orl"
      },
      "source": [
        "# unpacking the lists to a new list\n",
        "\n",
        "list1 = [1, 2, 3, 4, 5]\n",
        "list2 = [4, 5, 6, 7, 8]\n",
        "\n",
        "[*list1, *list2]"
      ],
      "execution_count": null,
      "outputs": []
    },
    {
      "cell_type": "markdown",
      "metadata": {
        "id": "_QUDcnLhiHHQ"
      },
      "source": [
        "> Access and change a list"
      ]
    },
    {
      "cell_type": "code",
      "metadata": {
        "id": "Ruy_x1oaeUnm"
      },
      "source": [
        "# access an item\n",
        "\n",
        "myList = [1, 2, 3 ,4 ,5 , 6]\n",
        "\n",
        "print(myList[2])\n",
        "print(myList[-1])\n",
        "print(myList[-2])"
      ],
      "execution_count": null,
      "outputs": []
    },
    {
      "cell_type": "code",
      "metadata": {
        "id": "6mDklF07k1Q9"
      },
      "source": [
        "# change an item\n",
        "\n",
        "myList[-2] = \"Changed\"\n",
        "print(myList)"
      ],
      "execution_count": null,
      "outputs": []
    },
    {
      "cell_type": "code",
      "metadata": {
        "id": "_4694emIi4qK"
      },
      "source": [
        "# access a slice of the list\n",
        "\n",
        "myList = [1, 2, 3 ,4 ,5 , 6]\n",
        "\n",
        "print(myList[1:3])\n",
        "print(myList[:4])\n",
        "print(myList[2:])\n",
        "print(myList[3:-1])"
      ],
      "execution_count": null,
      "outputs": []
    },
    {
      "cell_type": "code",
      "metadata": {
        "id": "BdtUMNhVn2Yl"
      },
      "source": [
        "# change a slice of the list\n",
        "\n",
        "myList[1:3] = [\"Changed\", \"Changed\"] \n",
        "myList"
      ],
      "execution_count": null,
      "outputs": []
    },
    {
      "cell_type": "markdown",
      "metadata": {
        "id": "1d_wg8Rd3dfj"
      },
      "source": [
        "\n",
        "\n",
        "> Clear or delete a list\n",
        "\n"
      ]
    },
    {
      "cell_type": "code",
      "metadata": {
        "id": "5vyGugk51WNw"
      },
      "source": [
        "# empty a list\n",
        "\n",
        "myList = [1, 2, 3 ,4 ,5 , 6]\n",
        "\n",
        "myList.clear()\n",
        "myList"
      ],
      "execution_count": null,
      "outputs": []
    },
    {
      "cell_type": "code",
      "metadata": {
        "id": "ICr5ThZwrkgk"
      },
      "source": [
        "# empty a list\n",
        "\n",
        "myList = [1, 2, 3 ,4 ,5 , 6]\n",
        "\n",
        "myList = []\n",
        "myList"
      ],
      "execution_count": null,
      "outputs": []
    },
    {
      "cell_type": "code",
      "metadata": {
        "id": "iqQkRF0Aoi8A"
      },
      "source": [
        "# empty part of the list\n",
        "\n",
        "myList = [1, 2, 3 ,4 ,5 , 6]\n",
        "\n",
        "myList[0:3] = []\n",
        "myList"
      ],
      "execution_count": null,
      "outputs": []
    },
    {
      "cell_type": "code",
      "metadata": {
        "id": "kFMvN1zW1NiK"
      },
      "source": [
        "# delete list\n",
        "\n",
        "myList = [1, 2, 3 ,4 ,5 , 6]\n",
        "\n",
        "del myList\n",
        "myList  # error -> myList is not defined"
      ],
      "execution_count": null,
      "outputs": []
    },
    {
      "cell_type": "code",
      "metadata": {
        "id": "Kf9K5jeKocqp"
      },
      "source": [
        "# delete part of the list\n",
        "\n",
        "myList = [1, 2, 3 ,4 ,5 , 6]\n",
        "\n",
        "del myList[0:3]\n",
        "myList"
      ],
      "execution_count": null,
      "outputs": []
    },
    {
      "cell_type": "markdown",
      "metadata": {
        "id": "a0K7aXSRKhlz"
      },
      "source": [
        "> Additional list methods"
      ]
    },
    {
      "cell_type": "code",
      "metadata": {
        "id": "UGuyNDGQKnUe"
      },
      "source": [
        "myList = [25,1,3,100,8,1,10000]\n",
        "\n",
        "count = myList.count(1)  # count occurences if 1 in the list\n",
        "print(count)\n",
        "\n",
        "myList.sort()  # sort the list\n",
        "print(myList)\n",
        "\n",
        "myList.reverse()  # reverse the list\n",
        "print(myList)"
      ],
      "execution_count": null,
      "outputs": []
    },
    {
      "cell_type": "markdown",
      "metadata": {
        "id": "quQrx2lptZ51"
      },
      "source": [
        "## Tuples"
      ]
    },
    {
      "cell_type": "markdown",
      "metadata": {
        "id": "wjduFPc4tZ57"
      },
      "source": [
        "*   ordered\n",
        "*   indexed\n",
        "*   **immutable**\n",
        "*   heterogeneous\n",
        "*   allow duplicate values"
      ]
    },
    {
      "cell_type": "markdown",
      "metadata": {
        "id": "UPLjU6I8tZ58"
      },
      "source": [
        "> Create a tuple"
      ]
    },
    {
      "cell_type": "code",
      "metadata": {
        "id": "2asfp0hMtZ58"
      },
      "source": [
        "# create an empty tuple\n",
        "\n",
        "myTuple = ()\n",
        "print(type(myTuple))\n",
        "\n",
        "# or\n",
        "\n",
        "myTuple = tuple()\n",
        "print(type(myTuple))"
      ],
      "execution_count": null,
      "outputs": []
    },
    {
      "cell_type": "code",
      "metadata": {
        "id": "da4vVDKTtZ59"
      },
      "source": [
        "# create a non-empty tuple\n",
        "\n",
        "myTuple = (1, 'Hello World', 25.0, True, [1,2,3,4], True)\n",
        "print(myTuple)\n",
        "\n",
        "# or\n",
        "\n",
        "myTuple = tuple((1, 'Hello World', 25.0, True, [1,2,3,4], True))\n",
        "print(myTuple)"
      ],
      "execution_count": null,
      "outputs": []
    },
    {
      "cell_type": "markdown",
      "metadata": {
        "id": "U-OvhZyW0Vpb"
      },
      "source": [
        "> Unpack a tuple"
      ]
    },
    {
      "cell_type": "code",
      "metadata": {
        "id": "Ekt94XLg0Zfx"
      },
      "source": [
        "myTuple = (1, 2, 3, 4, 5, 6)\n",
        "\n",
        "(a, b, c, d, e, f) = myTuple\n",
        "print(a,b,c,d,e,f)\n",
        "\n",
        "(a,*b) = myTuple\n",
        "print(a,b)"
      ],
      "execution_count": null,
      "outputs": []
    },
    {
      "cell_type": "markdown",
      "metadata": {
        "id": "nXMrfk0ztZ6C"
      },
      "source": [
        "> Access a tuple"
      ]
    },
    {
      "cell_type": "code",
      "metadata": {
        "id": "W9Vi8PyvtZ6C"
      },
      "source": [
        "myTuple = (1, 'Hello World', 25.0, True, [1,2,3,4], True)\n",
        "\n",
        "# access an item\n",
        "print(myTuple[2])\n",
        "print(myTuple[4][2:])\n",
        "print(myTuple[-1], '\\n')\n",
        "\n",
        "# access a slice of the list\n",
        "print(myTuple[1:3])\n",
        "print(myTuple[:4])\n",
        "print(myTuple[3:-1])"
      ],
      "execution_count": null,
      "outputs": []
    },
    {
      "cell_type": "code",
      "metadata": {
        "id": "10bqWMaY2D5L"
      },
      "source": [
        "# check if an item is or is not in a tuple (same for lists)\n",
        "\n",
        "toFind = [1,2,3,4]\n",
        "\n",
        "print(toFind in myTuple)\n",
        "print(toFind not in myTuple)"
      ],
      "execution_count": null,
      "outputs": []
    },
    {
      "cell_type": "code",
      "metadata": {
        "id": "Xpxc-r2WL28o"
      },
      "source": [
        "# get the index of an item (same for lists)\n",
        "\n",
        "index = myTuple.index(toFind)\n",
        "index"
      ],
      "execution_count": null,
      "outputs": []
    },
    {
      "cell_type": "markdown",
      "metadata": {
        "id": "nvtV5bRPKxkq"
      },
      "source": [
        "> Join tuples"
      ]
    },
    {
      "cell_type": "code",
      "metadata": {
        "id": "NHagjsO0Kzvq"
      },
      "source": [
        "# using the + operator\n",
        "\n",
        "tuple1 = (1, 2, 3, 4, 5)\n",
        "tuple2 = (4, 5, 6, 7, 8)\n",
        "\n",
        "tuple1 + tuple2"
      ],
      "execution_count": null,
      "outputs": []
    },
    {
      "cell_type": "code",
      "metadata": {
        "id": "D2K75PYyK211"
      },
      "source": [
        "# unpacking the tuples to a new tuple\n",
        "\n",
        "tuple1 = (1, 2, 3, 4, 5)\n",
        "tuple2 = (4, 5, 6, 7, 8)\n",
        "\n",
        "(*tuple1, *tuple2)"
      ],
      "execution_count": null,
      "outputs": []
    },
    {
      "cell_type": "markdown",
      "metadata": {
        "id": "2RIEXR9YtZ6D"
      },
      "source": [
        "\n",
        "\n",
        "> Clear or delete a tuple\n",
        "\n"
      ]
    },
    {
      "cell_type": "code",
      "metadata": {
        "id": "9zHCs03ItZ6D"
      },
      "source": [
        "# empty a tuple\n",
        "\n",
        "myTuple = (1, 2, 3 ,4 ,5 , 6)\n",
        "\n",
        "myTuple = ()\n",
        "myTuple"
      ],
      "execution_count": null,
      "outputs": []
    },
    {
      "cell_type": "code",
      "metadata": {
        "id": "7u2P6ZhgGIi-"
      },
      "source": [
        "# empty a tuple\n",
        "\n",
        "myTuple = (1, 2, 3 ,4 ,5 , 6)\n",
        "\n",
        "myTuple = tuple()\n",
        "myTuple"
      ],
      "execution_count": null,
      "outputs": []
    },
    {
      "cell_type": "code",
      "metadata": {
        "id": "B5f2Q5PAtZ6E"
      },
      "source": [
        "# delete a tuple\n",
        "\n",
        "myTuple = (1, 2, 3 ,4 ,5 , 6)\n",
        "\n",
        "del myTuple\n",
        "myTuple  # error -> myTuple is not defined"
      ],
      "execution_count": null,
      "outputs": []
    },
    {
      "cell_type": "code",
      "metadata": {
        "id": "WulmLtzEtZ6F"
      },
      "source": [
        "# tuples do not support item deletion\n",
        "\n",
        "myTuple = (1, 2, 3 ,4 ,5 , 6)\n",
        "\n",
        "del myTuple[0:3]\n",
        "myTuple  # error -> tuple does not support item deletion"
      ],
      "execution_count": null,
      "outputs": []
    },
    {
      "cell_type": "markdown",
      "metadata": {
        "id": "A2eVlIW88bac"
      },
      "source": [
        "## Dictionaries"
      ]
    },
    {
      "cell_type": "markdown",
      "metadata": {
        "id": "o2kzh0jK8bag"
      },
      "source": [
        "*   ordered * (as of python version 3.7)\n",
        "*   indexed\n",
        "*   mutable\n",
        "*   heterogeneous\n",
        "*   **do not** allow duplicate values"
      ]
    },
    {
      "cell_type": "markdown",
      "metadata": {
        "id": "A96rvMD_8bag"
      },
      "source": [
        "> Create a dictionary"
      ]
    },
    {
      "cell_type": "code",
      "metadata": {
        "id": "IphLE-gyUgQX"
      },
      "source": [
        "# create an empty dictionary\n",
        "\n",
        "myDict = {}\n",
        "print(type(myDict))\n",
        "\n",
        "# or\n",
        "\n",
        "myDict = dict()\n",
        "print(type(myDict))"
      ],
      "execution_count": null,
      "outputs": []
    },
    {
      "cell_type": "code",
      "metadata": {
        "id": "-5sDH-9G8bag"
      },
      "source": [
        "myDict = {\n",
        "  \"integer\" : 1,\n",
        "  25.0 : \"float\",\n",
        "  \"myList\" : [(2,4,6),(1,3,5)],\n",
        "  \"myNestedDict\" : {\"names\" : [\"nick\", \"john\", \"mary\"]}\n",
        "}\n",
        "\n",
        "print(myDict)\n",
        "print(type(myDict))\n",
        "\n",
        "# or\n",
        "\n",
        "myDict = dict([\n",
        "  (\"integer\", 1),\n",
        "  (25.0, \"float\"),\n",
        "  (\"myList\", [(2,4,6),(1,3,5)]),\n",
        "  (\"myNestedDict\", {\"names\" : [\"nick\", \"john\", \"mary\"]})\n",
        "])\n",
        "  \n",
        "print(myDict)\n",
        "print(type(myDict))\n",
        "\n",
        "# or\n",
        "\n",
        "keys = [\"integer\", 25.0,\"myList\",\"myNestedDict\"]\n",
        "vals = [1,\"float\",[(2,4,6),(1,3,5)],{\"names\" : [\"nick\", \"john\", \"mary\"]}]\n",
        "\n",
        "myDict = dict(zip(keys, vals))\n",
        "\n",
        "print(myDict)\n",
        "print(type(myDict))\n"
      ],
      "execution_count": null,
      "outputs": []
    },
    {
      "cell_type": "markdown",
      "metadata": {
        "id": "EuT2R67f8bai"
      },
      "source": [
        "\n",
        "> Add items\n",
        "\n"
      ]
    },
    {
      "cell_type": "code",
      "metadata": {
        "id": "40Ee9LL78bai"
      },
      "source": [
        "# using a new index key and assigning a value to it\n",
        "\n",
        "myDict[\"key\"] = \"val\"\n",
        "myDict"
      ],
      "execution_count": null,
      "outputs": []
    },
    {
      "cell_type": "code",
      "metadata": {
        "id": "CGg3XzyE8bai"
      },
      "source": [
        "# using the update() method\n",
        "\n",
        "myDict.update({\"Another Key\" : \"Another Val\"})\n",
        "myDict"
      ],
      "execution_count": null,
      "outputs": []
    },
    {
      "cell_type": "markdown",
      "metadata": {
        "id": "VDD_Fs658baj"
      },
      "source": [
        "\n",
        "\n",
        "> Remove items\n",
        "\n"
      ]
    },
    {
      "cell_type": "code",
      "metadata": {
        "id": "_rpgx9L58baj"
      },
      "source": [
        "# remove the item found under a specified key\n",
        "\n",
        "myDict.pop(\"key\")\n",
        "myDict"
      ],
      "execution_count": null,
      "outputs": []
    },
    {
      "cell_type": "code",
      "metadata": {
        "id": "4h3x74DI8baj"
      },
      "source": [
        "# also remove the item under a specified key\n",
        "\n",
        "del myDict[\"integer\"]\n",
        "myDict"
      ],
      "execution_count": null,
      "outputs": []
    },
    {
      "cell_type": "code",
      "metadata": {
        "id": "o7Bf7yqP8baj"
      },
      "source": [
        "myDict.popitem()  # remove last inserted item\n",
        "myDict"
      ],
      "execution_count": null,
      "outputs": []
    },
    {
      "cell_type": "markdown",
      "metadata": {
        "id": "DOCHKzV8MLEM"
      },
      "source": [
        "> Join dictionaries"
      ]
    },
    {
      "cell_type": "code",
      "metadata": {
        "id": "H9Fk7m8jMJSQ"
      },
      "source": [
        "# unpacking the dictionaries to a new dictionary\n",
        "\n",
        "dict1 = {\"key1\" : \"val1\", \"key2\" : \"val2\"}\n",
        "dict2 = {\"key3\" : \"val3\"}\n",
        "\n",
        "{**dict1, **dict2}"
      ],
      "execution_count": null,
      "outputs": []
    },
    {
      "cell_type": "markdown",
      "metadata": {
        "id": "X9dYHllK8bak"
      },
      "source": [
        "> Access a dictionary"
      ]
    },
    {
      "cell_type": "code",
      "metadata": {
        "id": "kRcMgbsQ8bak"
      },
      "source": [
        "myDict = {\n",
        "  \"integer\" : 1,\n",
        "  25.0 : \"float\",\n",
        "  \"myList\" : [(2,4,6),(1,3,5)],\n",
        "  \"myNestedDict\" : {\"names\" : [\"nick\", \"john\", \"mary\"]}\n",
        "}\n",
        "\n",
        "# access an item\n",
        "print(myDict[25.0])\n",
        "print(myDict.get(25.0))\n",
        "\n",
        "# access nested items\n",
        "print(myDict[\"myList\"])  # access myList\n",
        "print(myDict[\"myList\"][1])  # access second tuple of myList\n",
        "print(myDict[\"myList\"][1][0])  # access first item of second tuple of myList"
      ],
      "execution_count": null,
      "outputs": []
    },
    {
      "cell_type": "code",
      "metadata": {
        "id": "TuCCGY1D8bak"
      },
      "source": [
        "# get the keys of a dictionary\n",
        "\n",
        "keys = myDict.keys()\n",
        "print(keys)\n",
        "\n",
        "# or\n",
        "\n",
        "keys = list(myDict)\n",
        "print(keys)\n",
        "\n",
        "# or\n",
        "\n",
        "(a,b,c,d) = myDict  # unpacking\n",
        "print(a,b,c,d)\n",
        "\n",
        "# or\n",
        "\n",
        "(*b,) = myDict  # unpacking\n",
        "print(b)\n",
        "\n",
        "# or\n",
        "\n",
        "[*b] = myDict  # unpacking\n",
        "print(b)"
      ],
      "execution_count": null,
      "outputs": []
    },
    {
      "cell_type": "code",
      "metadata": {
        "id": "e_P-H7VU8bal"
      },
      "source": [
        "# get the values of a dictionary\n",
        "\n",
        "values = myDict.values()\n",
        "values"
      ],
      "execution_count": null,
      "outputs": []
    },
    {
      "cell_type": "code",
      "metadata": {
        "id": "XIiM0qYX8bal"
      },
      "source": [
        "# get the items of a dictionary\n",
        "\n",
        "items = myDict.items()\n",
        "items"
      ],
      "execution_count": null,
      "outputs": []
    },
    {
      "cell_type": "code",
      "metadata": {
        "id": "hnvgRJyVM26P"
      },
      "source": [
        "# check if a key is or is not in a dictionary\n",
        "\n",
        "print(\"myList\" in myDict)\n",
        "print(\"myList\" not in myDict)"
      ],
      "execution_count": null,
      "outputs": []
    },
    {
      "cell_type": "markdown",
      "metadata": {
        "id": "a7lPKGTfIZvy"
      },
      "source": [
        "> Change a dictionary"
      ]
    },
    {
      "cell_type": "code",
      "metadata": {
        "id": "wpFkgDZZIq5j"
      },
      "source": [
        "# using the keys\n",
        "\n",
        "myDict[\"myNestedDict\"][\"names\"][1] = \"Changed\"\n",
        "myDict"
      ],
      "execution_count": null,
      "outputs": []
    },
    {
      "cell_type": "code",
      "metadata": {
        "id": "8ksNZyB5IyDP"
      },
      "source": [
        "# using the update() method\n",
        "\n",
        "myDict.update({\"myList\" : []})\n",
        "myDict"
      ],
      "execution_count": null,
      "outputs": []
    },
    {
      "cell_type": "markdown",
      "metadata": {
        "id": "KWsYz-188bal"
      },
      "source": [
        "\n",
        "\n",
        "> Clear or delete a dictionary\n",
        "\n"
      ]
    },
    {
      "cell_type": "code",
      "metadata": {
        "id": "KzPoWPw68bal"
      },
      "source": [
        "# empty a dictionary\n",
        "\n",
        "myDict = {\n",
        "  \"integer\" : 1,\n",
        "  25.0 : \"float\",\n",
        "  \"myList\" : [(2,4,6),(1,3,5)],\n",
        "  \"myNestedDict\" : {\"names\" : [\"nick\", \"john\", \"mary\"]}\n",
        "}\n",
        "\n",
        "myDict.clear()\n",
        "myDict"
      ],
      "execution_count": null,
      "outputs": []
    },
    {
      "cell_type": "code",
      "metadata": {
        "id": "jKLKrzDK8bal"
      },
      "source": [
        "# empty a dictionary\n",
        "\n",
        "myDict = {\n",
        "  \"integer\" : 1,\n",
        "  25.0 : \"float\",\n",
        "  \"myList\" : [(2,4,6),(1,3,5)],\n",
        "  \"myNestedDict\" : {\"names\" : [\"nick\", \"john\", \"mary\"]}\n",
        "}\n",
        "\n",
        "myDict = {}\n",
        "myDict"
      ],
      "execution_count": null,
      "outputs": []
    },
    {
      "cell_type": "code",
      "metadata": {
        "id": "oxnsUv__8bam"
      },
      "source": [
        "# empty a dictionary\n",
        "\n",
        "myDict = {\n",
        "  \"integer\" : 1,\n",
        "  25.0 : \"float\",\n",
        "  \"myList\" : [(2,4,6),(1,3,5)],\n",
        "  \"myNestedDict\" : {\"names\" : [\"nick\", \"john\", \"mary\"]}\n",
        "}\n",
        "\n",
        "myDict = dict()\n",
        "myDict"
      ],
      "execution_count": null,
      "outputs": []
    },
    {
      "cell_type": "code",
      "metadata": {
        "id": "Q13oYUP48bam"
      },
      "source": [
        "# delete a dictionary\n",
        "\n",
        "myDict = {\n",
        "  \"integer\" : 1,\n",
        "  25.0 : \"float\",\n",
        "  \"myList\" : [(2,4,6),(1,3,5)],\n",
        "  \"myNestedDict\" : {\"names\" : [\"nick\", \"john\", \"mary\"]}\n",
        "}\n",
        "\n",
        "del myDict\n",
        "myDict  # error -> myDict is not defined"
      ],
      "execution_count": null,
      "outputs": []
    },
    {
      "cell_type": "markdown",
      "metadata": {
        "id": "SuP3ptS8TUQI"
      },
      "source": [
        "## Sets"
      ]
    },
    {
      "cell_type": "markdown",
      "metadata": {
        "id": "6qqMQi9nTUQL"
      },
      "source": [
        "*   **unordered**\n",
        "*   **unindexed**\n",
        "*   mutable * (only add and remove items)\n",
        "*   heterogeneous\n",
        "*   **do not** allow duplicate values"
      ]
    },
    {
      "cell_type": "markdown",
      "metadata": {
        "id": "iMHUw37vTUQL"
      },
      "source": [
        "> Create a set"
      ]
    },
    {
      "cell_type": "code",
      "metadata": {
        "id": "IPPyCCZhTUQM"
      },
      "source": [
        "# create an empty set\n",
        "\n",
        "mySet = set()\n",
        "print(type(mySet))"
      ],
      "execution_count": null,
      "outputs": []
    },
    {
      "cell_type": "code",
      "metadata": {
        "id": "DNmOkU3JTUQM"
      },
      "source": [
        "# create a non-empty set\n",
        "\n",
        "mySet = {1, 'Hello World', 25.0, 'Hello World', (1,2,3), True}\n",
        "print(mySet)\n",
        "\n",
        "# or\n",
        "\n",
        "mySet = set((1, 'Hello World', 25.0, 'Hello World', (1,2,3), True))\n",
        "print(mySet)"
      ],
      "execution_count": null,
      "outputs": []
    },
    {
      "cell_type": "code",
      "metadata": {
        "id": "kcSJp-R7WL4n"
      },
      "source": [
        "# a set cannot have mutable/unhashable items (lists, sets, dictionaries)\n",
        "\n",
        "mySet = {1, 'Hello World', [1,2,3]}  # error"
      ],
      "execution_count": null,
      "outputs": []
    },
    {
      "cell_type": "markdown",
      "metadata": {
        "id": "Qe87fZQiTUQN"
      },
      "source": [
        "> Unpack a set"
      ]
    },
    {
      "cell_type": "code",
      "metadata": {
        "id": "Hq6I1mXpTUQN"
      },
      "source": [
        "(a,b,c,d) = mySet\n",
        "print(a,b,c,d)\n",
        "\n",
        "(a,*b) = mySet\n",
        "print(a,b)"
      ],
      "execution_count": null,
      "outputs": []
    },
    {
      "cell_type": "markdown",
      "metadata": {
        "id": "-7ANvTYwTUQN"
      },
      "source": [
        "\n",
        "> Add items\n",
        "\n"
      ]
    },
    {
      "cell_type": "code",
      "metadata": {
        "id": "gwqsHXr9TUQO"
      },
      "source": [
        "# using the add() method\n",
        "\n",
        "mySet.add('Another Item')\n",
        "print(mySet)\n",
        "\n",
        "mySet.add(('This',\"is\",\"a\",\"tuple\"))  # inserted as 1 item\n",
        "print(mySet)"
      ],
      "execution_count": null,
      "outputs": []
    },
    {
      "cell_type": "code",
      "metadata": {
        "id": "5v6XR5tjkizM"
      },
      "source": [
        "# the update() method inserts the items of an iterable(list,tuple,set,string,range) into the set\n",
        "\n",
        "mySet = set()\n",
        "\n",
        "mySet.update([1,2,3])  # inserted as 3 items\n",
        "print(mySet)\n",
        "\n",
        "mySet.update({'This',\"is\",\"a\",\"set\"})  # inserted as 4 items\n",
        "print(mySet)"
      ],
      "execution_count": null,
      "outputs": []
    },
    {
      "cell_type": "markdown",
      "metadata": {
        "id": "1CPGTr4ITUQO"
      },
      "source": [
        "\n",
        "\n",
        "> Remove items\n",
        "\n"
      ]
    },
    {
      "cell_type": "code",
      "metadata": {
        "id": "HLvEU87HTUQO"
      },
      "source": [
        "# Remove last item. Sets are unordered, so when using the \n",
        "# pop() method, you do not know which item gets removed.\n",
        "\n",
        "mySet.pop()\n",
        "mySet"
      ],
      "execution_count": null,
      "outputs": []
    },
    {
      "cell_type": "code",
      "metadata": {
        "id": "7rQ21TkDTUQO"
      },
      "source": [
        "# if the item to remove does not exist, remove() will raise an error\n",
        "\n",
        "mySet.remove('Random Item')\n",
        "mySet"
      ],
      "execution_count": null,
      "outputs": []
    },
    {
      "cell_type": "code",
      "metadata": {
        "id": "KU4E4mh1TUQP"
      },
      "source": [
        "# if the item to remove does not exist, discard() will NOT raise an error.\n",
        "\n",
        "mySet.discard('Random Item')\n",
        "mySet"
      ],
      "execution_count": null,
      "outputs": []
    },
    {
      "cell_type": "markdown",
      "metadata": {
        "id": "PY6MPP4STUQP"
      },
      "source": [
        "\n",
        "\n",
        "> Join sets\n",
        "\n"
      ]
    },
    {
      "cell_type": "code",
      "metadata": {
        "id": "J-KLTAMUj1mM"
      },
      "source": [
        "# keep ALL items of both sets\n",
        "\n",
        "set1 = {1, 2, 3, 4, 5}\n",
        "set2 = {4, 5, 6, 7, 8}\n",
        "\n",
        "union = set1.union(set2) \n",
        "print(union)\n",
        "\n",
        "# or\n",
        "\n",
        "union = set1 | set2\n",
        "print(union)\n",
        "\n",
        "# or\n",
        "\n",
        "union = {*set1, *set2}  # unpacking\n",
        "print(union)"
      ],
      "execution_count": null,
      "outputs": []
    },
    {
      "cell_type": "code",
      "metadata": {
        "id": "hj5ajWPDild-"
      },
      "source": [
        "# keep ONLY the duplicates of both sets\n",
        "\n",
        "set1 = {1, 2, 3, 4, 5}\n",
        "set2 = {4, 5, 6, 7, 8}\n",
        "\n",
        "intersection = set1.intersection(set2)\n",
        "print(intersection)\n",
        "\n",
        "# or\n",
        "\n",
        "intersection = set1 & set2\n",
        "print(intersection)"
      ],
      "execution_count": null,
      "outputs": []
    },
    {
      "cell_type": "code",
      "metadata": {
        "id": "qBqLWxdvjaTS"
      },
      "source": [
        "# keep the items of the first set which are not found in the second one\n",
        "\n",
        "set1 = {1, 2, 3, 4, 5}\n",
        "set2 = {4, 5, 6, 7, 8}\n",
        "\n",
        "diff = set1.difference(set2)\n",
        "print(diff)\n",
        "\n",
        "# or\n",
        "\n",
        "diff = set1 - set2\n",
        "print(diff)"
      ],
      "execution_count": null,
      "outputs": []
    },
    {
      "cell_type": "markdown",
      "metadata": {
        "id": "UegJjNPCTUQQ"
      },
      "source": [
        "\n",
        "\n",
        "> Clear or delete a set\n"
      ]
    },
    {
      "cell_type": "code",
      "metadata": {
        "id": "iP-qq-HmTUQQ"
      },
      "source": [
        "# empty a set\n",
        "\n",
        "mySet = {1, 'Hello World', 25.0, 'Hello World', (1,2,3), True}\n",
        "\n",
        "mySet.clear()\n",
        "mySet"
      ],
      "execution_count": null,
      "outputs": []
    },
    {
      "cell_type": "code",
      "metadata": {
        "id": "Uwj8DXZTTUQR"
      },
      "source": [
        "# empty a set\n",
        "\n",
        "mySet = {1, 'Hello World', 25.0, 'Hello World', (1,2,3), True}\n",
        "\n",
        "mySet = set()\n",
        "mySet"
      ],
      "execution_count": null,
      "outputs": []
    },
    {
      "cell_type": "code",
      "metadata": {
        "id": "kTI0-ZkuTUQR"
      },
      "source": [
        "# delete a set\n",
        "\n",
        "mySet = {1, 'Hello World', 25.0, 'Hello World', (1,2,3), True}\n",
        "\n",
        "del mySet\n",
        "mySet  # error -> mySet is not defined"
      ],
      "execution_count": null,
      "outputs": []
    },
    {
      "cell_type": "markdown",
      "metadata": {
        "id": "CUuiWO-uXl3-"
      },
      "source": [
        "# Conditional Statements - Loops - List Comprehensions - Iteration\n"
      ]
    },
    {
      "cell_type": "markdown",
      "metadata": {
        "id": "eEvUT6hAGgFK"
      },
      "source": [
        "## Conditional Statements"
      ]
    },
    {
      "cell_type": "code",
      "metadata": {
        "id": "ZOnP2QW_Gt8j"
      },
      "source": [
        "# If-Elif-Else statement\n",
        "\n",
        "num = 6\n",
        "if num == 0:\n",
        "  print(\"Num equals 0\")\n",
        "elif num < 5 and num > 0:\n",
        "  print(\"Num is between 0 and 5\")\n",
        "elif  num >= 5:\n",
        "  print(\"Num is greater than or equal to 5\")\n",
        "else:\n",
        "  print(\"Num is negative\")"
      ],
      "execution_count": null,
      "outputs": []
    },
    {
      "cell_type": "code",
      "metadata": {
        "id": "0lN6gRQhTe4Z"
      },
      "source": [
        "# nested If statement\n",
        "\n",
        "num = 4\n",
        "if num > 0:\n",
        "  if num < 5 and num > 0:\n",
        "    print(\"Num is between 0 and 5\")\n",
        "  else:\n",
        "    print(\"Num is greater than or equal to 5\")\n",
        "elif num == 0:\n",
        "  print(\"Num equals 0\")\n",
        "else:\n",
        "  print(\"Num is negative\")"
      ],
      "execution_count": null,
      "outputs": []
    },
    {
      "cell_type": "code",
      "metadata": {
        "id": "lvkCsp-JVnFd"
      },
      "source": [
        "# short hand If statement\n",
        "\n",
        "a,b = 100,5\n",
        "\n",
        "if a > b: print(\"a is greater than b\")"
      ],
      "execution_count": null,
      "outputs": []
    },
    {
      "cell_type": "code",
      "metadata": {
        "id": "PlwTZNvoVyrP"
      },
      "source": [
        "# short hand If-Else statement\n",
        "\n",
        "num = 100\n",
        "\n",
        "print(\"Num is non-negative\") if num >= 0 else print(\"Num is negative\")"
      ],
      "execution_count": null,
      "outputs": []
    },
    {
      "cell_type": "markdown",
      "metadata": {
        "id": "6VRgpoG1F_t0"
      },
      "source": [
        "## Loops"
      ]
    },
    {
      "cell_type": "markdown",
      "metadata": {
        "id": "UyhPvsBBYuoO"
      },
      "source": [
        "> For Loop\n",
        "\n"
      ]
    },
    {
      "cell_type": "code",
      "metadata": {
        "id": "bGirlhKMYuoQ"
      },
      "source": [
        "for i in range(10):  # for(int i = 0; i < 10; i++)\n",
        "  print(i)"
      ],
      "execution_count": null,
      "outputs": []
    },
    {
      "cell_type": "code",
      "metadata": {
        "id": "og2bp-zOcBmu"
      },
      "source": [
        "for i in range(7,10):  # for(int i = 7; i < 10; i++)\n",
        "  print(i)"
      ],
      "execution_count": null,
      "outputs": []
    },
    {
      "cell_type": "code",
      "metadata": {
        "id": "FoIWyvHpcByf"
      },
      "source": [
        "for i in range(10,20,2):  # for(int i = 10; i < 20; i+=2)\n",
        "  print(i)"
      ],
      "execution_count": null,
      "outputs": []
    },
    {
      "cell_type": "markdown",
      "metadata": {
        "id": "-YThk0PVcqIi"
      },
      "source": [
        "> While Loop"
      ]
    },
    {
      "cell_type": "code",
      "metadata": {
        "id": "4uY-JLMQcqIk"
      },
      "source": [
        "# While statement\n",
        "\n",
        "i = 0\n",
        "while i < 10:\n",
        "  print(i)\n",
        "  i += 1"
      ],
      "execution_count": null,
      "outputs": []
    },
    {
      "cell_type": "code",
      "metadata": {
        "id": "iDONZA2ffCse"
      },
      "source": [
        "# Continue, Pass, Break statements\n",
        "\n",
        "i = 0\n",
        "while True:\n",
        "  i += 1\n",
        "  if i == 5:\n",
        "    continue  # skips current iteration\n",
        "  elif i == 10:\n",
        "    break  # exits loop\n",
        "  else:\n",
        "    pass  # Nothing happens. It is used as a placeholder for future code\n",
        "    \n",
        "  print(i)\n",
        "  "
      ],
      "execution_count": null,
      "outputs": []
    },
    {
      "cell_type": "code",
      "metadata": {
        "id": "3tcSBX44ejYd"
      },
      "source": [
        "# While-Else statement (else clause can be used in a For-Loop as well)\n",
        "# The else clause is only executed when the while condition becomes false. \n",
        "# If you break out of the loop, or if an exception is raised, it won't be executed.\n",
        "\n",
        "i = 0\n",
        "while i < 10:\n",
        "  print(i)\n",
        "  i += 1\n",
        "else:\n",
        "  print(\"Now i is\", i)"
      ],
      "execution_count": null,
      "outputs": []
    },
    {
      "cell_type": "markdown",
      "metadata": {
        "id": "3AFm45_x4xtB"
      },
      "source": [
        "## List Comprehensions"
      ]
    },
    {
      "cell_type": "code",
      "metadata": {
        "id": "KbViqLAi9QrF"
      },
      "source": [
        "# List comprehensions offer a shorter syntax when you want to create\n",
        "# a new list from an iterable (list, tuple, set, range, string) \n",
        "\n",
        "newList = [num for num in range(10)]\n",
        "print(newList)\n",
        "\n",
        "myList = [0,1,2,3,4,5,6,7,8,9]\n",
        "newList = [num for num in myList]\n",
        "print(newList)\n",
        "\n",
        "myTuple = (0,1,2,3,4,5,6,7,8,9)\n",
        "newList = [num for num in myTuple]\n",
        "print(newList)\n",
        "\n",
        "mySet = {0,1,2,3,4,5,6,7,8,9}\n",
        "newList = [num for num in mySet]\n",
        "print(newList)\n",
        "\n",
        "myString = \"Hello World\"\n",
        "newList = [num for num in myString]\n",
        "print(newList)"
      ],
      "execution_count": null,
      "outputs": []
    },
    {
      "cell_type": "code",
      "metadata": {
        "id": "RtBnAvvT-Y6o"
      },
      "source": [
        "# Each item of the new list can be manipulated\n",
        "# or set to a default before it is added to the list\n",
        "\n",
        "newList = ['num' for num in range(10)]\n",
        "print(newList)\n",
        "\n",
        "newList = [float(num) for num in range(10)]\n",
        "print(newList)\n",
        "\n",
        "newList = [num**2 for num in range(10)]\n",
        "print(newList)"
      ],
      "execution_count": null,
      "outputs": []
    },
    {
      "cell_type": "code",
      "metadata": {
        "id": "ZN_bUGMb4xtB"
      },
      "source": [
        "# list comprehensions can have conditions\n",
        "\n",
        "newList = [num for num in range(10) if num < 4]\n",
        "print(newList)\n",
        "\n",
        "newList = [num for num in range(10) if num % 2 == 0]\n",
        "print(newList)\n",
        "\n",
        "newList = [num if num % 2 == 0 else 'not even' for num in range(10)]\n",
        "print(newList)"
      ],
      "execution_count": null,
      "outputs": []
    },
    {
      "cell_type": "code",
      "metadata": {
        "id": "uakKxnqqCWFl"
      },
      "source": [
        "# nested list comprehensions\n",
        "\n",
        "newList = [[num for num in range(10)] for sublist in range(3)]\n",
        "print(newList)"
      ],
      "execution_count": null,
      "outputs": []
    },
    {
      "cell_type": "markdown",
      "metadata": {
        "id": "DbJgC21ems39"
      },
      "source": [
        "## Iteration"
      ]
    },
    {
      "cell_type": "markdown",
      "metadata": {
        "id": "boA5qt7TYUVI"
      },
      "source": [
        "### Lists"
      ]
    },
    {
      "cell_type": "code",
      "metadata": {
        "id": "UNaPnBFkmJEz"
      },
      "source": [
        "# iterate over a list\n",
        "\n",
        "myList = ['a', 'b', 'c']\n",
        "\n",
        "[print(item) for item in myList]\n",
        "\n",
        "# or\n",
        "\n",
        "for item in myList:\n",
        "  print(item)\n"
      ],
      "execution_count": null,
      "outputs": []
    },
    {
      "cell_type": "code",
      "metadata": {
        "id": "2uRlMgfz29RM"
      },
      "source": [
        "# iterate over a list, while keeping track of the iteration count\n",
        "\n",
        "length = len(myList)\n",
        "for i in range(length):\n",
        "  print(i, myList[i])\n",
        "\n",
        "# or\n",
        "\n",
        "for index,item in enumerate(myList):  \n",
        "  print(index, item)"
      ],
      "execution_count": null,
      "outputs": []
    },
    {
      "cell_type": "code",
      "metadata": {
        "id": "N5xdIwjIklBR"
      },
      "source": [
        "# iterate over a nested list\n",
        "\n",
        "myLists = [['a', 'b', 'c'], ['A', 'B', 'C']]\n",
        "\n",
        "[print(item) for myList in myLists for item in myList]\n",
        "\n",
        "# or\n",
        "\n",
        "for myList in myLists:\n",
        "  for item in myList:\n",
        "    print(item)"
      ],
      "execution_count": null,
      "outputs": []
    },
    {
      "cell_type": "code",
      "metadata": {
        "id": "7DxjJn651nsn"
      },
      "source": [
        "# for small nested lists with sublists of the \n",
        "# same legth you can unpack each list\n",
        "\n",
        "myLists = [['a', 'b', 'c'], ['A', 'B', 'C']]\n",
        "\n",
        "for item1, item2, item3 in myLists:\n",
        "  print(item1, item2, item3)"
      ],
      "execution_count": null,
      "outputs": []
    },
    {
      "cell_type": "markdown",
      "metadata": {
        "id": "zYmqDB9Iq6OB"
      },
      "source": [
        "### Tuples"
      ]
    },
    {
      "cell_type": "code",
      "metadata": {
        "id": "NEthXVH1q6OC"
      },
      "source": [
        "# iterate over a tuple\n",
        "\n",
        "myTuple = ('a', 'b', 'c')\n",
        "\n",
        "[print(item) for item in myTuple]\n",
        "\n",
        "# or\n",
        "\n",
        "for item in myTuple:\n",
        "  print(item)"
      ],
      "execution_count": null,
      "outputs": []
    },
    {
      "cell_type": "code",
      "metadata": {
        "id": "4XmF0nml3A35"
      },
      "source": [
        "# iterate over a tuple, while keeping track of the iteration count\n",
        "\n",
        "length = len(myTuple)\n",
        "for i in range(length):\n",
        "  print(i, myTuple[i])\n",
        "\n",
        "# or\n",
        "\n",
        "for index,item in enumerate(myTuple):\n",
        "  print(index, item)"
      ],
      "execution_count": null,
      "outputs": []
    },
    {
      "cell_type": "code",
      "metadata": {
        "id": "_a1C-Yu0q6OD"
      },
      "source": [
        "# iterate over a nested tuple\n",
        "\n",
        "myTuples = (('a', 'b', 'c'), ('A', 'B', 'C'))\n",
        "\n",
        "[print(item) for myTuple in myTuples for item in myTuple]\n",
        "\n",
        "# or\n",
        "\n",
        "for myTuple in myTuples:\n",
        "  for item in myTuple:\n",
        "    print(item)"
      ],
      "execution_count": null,
      "outputs": []
    },
    {
      "cell_type": "code",
      "metadata": {
        "id": "eY3RBGNs2B1m"
      },
      "source": [
        "# for small nested tuples with subtuples of the \n",
        "# same legth you can unpack each tuple\n",
        "\n",
        "for item1, item2, item3 in myTuples:\n",
        "  print(item1, item2, item3)"
      ],
      "execution_count": null,
      "outputs": []
    },
    {
      "cell_type": "markdown",
      "metadata": {
        "id": "-rRY_C_6rR5U"
      },
      "source": [
        "### Sets"
      ]
    },
    {
      "cell_type": "code",
      "metadata": {
        "id": "FKBFQiEVrR5V"
      },
      "source": [
        "# iterate over a set\n",
        "\n",
        "mySet = {'a', 'b', 'c'}\n",
        "\n",
        "[print(item) for item in mySet]\n",
        "\n",
        "# or\n",
        "\n",
        "for item in mySet:\n",
        "  print(item)"
      ],
      "execution_count": null,
      "outputs": []
    },
    {
      "cell_type": "markdown",
      "metadata": {
        "id": "j4dbUUPfvIUm"
      },
      "source": [
        "### Dictionaries"
      ]
    },
    {
      "cell_type": "code",
      "metadata": {
        "id": "TSy-GRR_vIUx"
      },
      "source": [
        "# iterate over a dictionary\n",
        "\n",
        "myDict = {'a' : 10,'b' : 15,'c' : 20}\n",
        "\n",
        "[print(item, myDict[item]) for item in myDict]\n",
        "\n",
        "# or\n",
        "\n",
        "for item in myDict:\n",
        "  print(item, myDict[item])\n",
        "\n",
        "# or\n",
        "\n",
        "for item in myDict.keys():\n",
        "  print(item, myDict[item])\n",
        "\n",
        "# or\n",
        "\n",
        "for key,val in myDict.items():\n",
        "  print(key,val)"
      ],
      "execution_count": null,
      "outputs": []
    },
    {
      "cell_type": "markdown",
      "metadata": {
        "id": "X4BAAUcX0NNP"
      },
      "source": [
        "# Functions - Importing\n",
        "\n",
        "\n",
        "\n",
        "\n",
        "\n"
      ]
    },
    {
      "cell_type": "markdown",
      "metadata": {
        "id": "2tMyLuLH0XD1"
      },
      "source": [
        "## Functions"
      ]
    },
    {
      "cell_type": "code",
      "metadata": {
        "id": "f7WBEVXd0ZTx"
      },
      "source": [
        "def my_function():\n",
        "  print(\"Hello from a function\")\n",
        "\n",
        "my_function()"
      ],
      "execution_count": null,
      "outputs": []
    },
    {
      "cell_type": "code",
      "metadata": {
        "id": "0xpGvWp62KQh"
      },
      "source": [
        "def my_function(firstName):\n",
        "  print(\"My first name is:\", firstName)\n",
        "\n",
        "my_function(\"John\")"
      ],
      "execution_count": null,
      "outputs": []
    },
    {
      "cell_type": "code",
      "metadata": {
        "id": "DvWMpFT73N6l"
      },
      "source": [
        "def my_function(firstName, lastName):\n",
        "  print(\"My full name is:\", firstName, lastName)\n",
        "\n",
        "my_function(\"John\", \"Watson\")"
      ],
      "execution_count": null,
      "outputs": []
    },
    {
      "cell_type": "code",
      "metadata": {
        "id": "6U69L0g23X08"
      },
      "source": [
        "# input arguments must match function arguments\n",
        "\n",
        "def my_function(firstName, lastName):\n",
        "  print(\"My full name is:\", firstName, lastName)\n",
        "\n",
        "my_function(\"John\")  # error -> missing 1 required argument"
      ],
      "execution_count": null,
      "outputs": []
    },
    {
      "cell_type": "code",
      "metadata": {
        "id": "AnQ89Hpe5UZt"
      },
      "source": [
        "# you can set a default for the arguments\n",
        "\n",
        "def my_function(firstName=\"**first name wasn't given**\", lastName=\"**last name wasn't given**\"):\n",
        "  print(\"My full name is:\", firstName, lastName)\n",
        "\n",
        "my_function()\n",
        "my_function(\"John\")  # default is overwritten\n",
        "my_function(\"John\", \"Watson\")  # defaults are overwritten"
      ],
      "execution_count": null,
      "outputs": []
    },
    {
      "cell_type": "code",
      "metadata": {
        "id": "vsuFotAsLEeX"
      },
      "source": [
        "# functions can return \"results\"\n",
        "\n",
        "def my_function(fullName):\n",
        "  return fullName.upper()\n",
        "\n",
        "x = my_function(\"John Watson\")\n",
        "print(x)"
      ],
      "execution_count": null,
      "outputs": []
    },
    {
      "cell_type": "markdown",
      "metadata": {
        "id": "vERaRfi9KnyQ"
      },
      "source": [
        "> Args and Kwargs"
      ]
    },
    {
      "cell_type": "code",
      "metadata": {
        "id": "1P42u1lPCPkW"
      },
      "source": [
        "# python offers a way  to pass a variable number of arguments to a function.\n",
        "\n",
        "print(\"When using *args the function will receive a tuple of arguments.\")\n",
        "def test_args(*args):\n",
        "    print(args)\n",
        "\n",
        "test_args(\"John\", \"Watson\")\n",
        "test_args(\"Mary\", \"Jane\", 22, 123456789)\n",
        "\n",
        "# or\n",
        "\n",
        "print(\"\\nWhen using **kwargs the function will receive a dictionary of arguments.\")\n",
        "def test_kwargs(**kwargs):\n",
        "    print(kwargs)\n",
        "\n",
        "test_kwargs(Firstname=\"John\", Lastname=\"Watson\")\n",
        "test_kwargs(Firstname=\"Mary\", Lastname=\"Jane\", Age=22, Phone=123456789)"
      ],
      "execution_count": null,
      "outputs": []
    },
    {
      "cell_type": "code",
      "metadata": {
        "id": "ug8pVUtQDE40"
      },
      "source": [
        "print(\"When using *args there is no context about the arguments.\")\n",
        "def test_args(*args):\n",
        "  for item in args:\n",
        "    print(\"The ? is {}\".format(item))\n",
        "\n",
        "test_args(\"Mary\", \"Jane\", 22, 123456789)\n",
        "\n",
        "\n",
        "print(\"\\nWhen using **kwargs there is some context about the arguments.\")\n",
        "def test_kwargs(**kwargs):\n",
        "  for key,val in kwargs.items():\n",
        "    print(\"The {} is {}\".format(key, val))\n",
        "\n",
        "test_kwargs(Firstname=\"Mary\", Lastname=\"Jane\", Age=22, Phone=123456789)"
      ],
      "execution_count": null,
      "outputs": []
    },
    {
      "cell_type": "markdown",
      "metadata": {
        "id": "eI0nQjVkKtZR"
      },
      "source": [
        "> Scope"
      ]
    },
    {
      "cell_type": "code",
      "metadata": {
        "id": "EJRNpftWKwbV"
      },
      "source": [
        "#  Global-Enclosing-Local scope\n",
        "\n",
        "scope =\"global\"\n",
        "\n",
        "def my_function():\n",
        "  scope =\"enclosing\"\n",
        "\n",
        "  def my_inner_function():\n",
        "    scope =\"local\"\n",
        "    print(scope)\n",
        "\n",
        "  my_inner_function()\n",
        "  print(scope)\n",
        "\n",
        "my_function()\n",
        "print(scope)"
      ],
      "execution_count": null,
      "outputs": []
    },
    {
      "cell_type": "code",
      "metadata": {
        "id": "iKS-qLA6zWtk"
      },
      "source": [
        "# read a non-local/eclosing variable in local scope\n",
        "\n",
        "def my_function():\n",
        "  scope = \"enclosing\" \n",
        "\n",
        "  def my_inner_function():\n",
        "    print(scope)\n",
        "\n",
        "  my_inner_function()\n",
        "\n",
        "my_function()"
      ],
      "execution_count": null,
      "outputs": []
    },
    {
      "cell_type": "code",
      "metadata": {
        "id": "9SZ7djD7zYXE"
      },
      "source": [
        "# read a global variable in local scope\n",
        "\n",
        "scope =\"global\"\n",
        "\n",
        "def my_function():\n",
        "  def my_inner_function():\n",
        "    print(scope)\n",
        "\n",
        "  my_inner_function()\n",
        "\n",
        "my_function()"
      ],
      "execution_count": null,
      "outputs": []
    },
    {
      "cell_type": "code",
      "metadata": {
        "id": "BgGgG6-5z51J"
      },
      "source": [
        "# change a global variable in local scope\n",
        "\n",
        "scope =\"global\"\n",
        "\n",
        "def my_function():\n",
        "  def my_inner_function():\n",
        "    global scope\n",
        "    print(scope)\n",
        "    scope = \"GLOBAL (changed in local scope)\"\n",
        "\n",
        "  my_inner_function()\n",
        "\n",
        "my_function()\n",
        "print(scope)"
      ],
      "execution_count": null,
      "outputs": []
    },
    {
      "cell_type": "code",
      "metadata": {
        "id": "AQQZSlRR1BR8"
      },
      "source": [
        "# change a non-local/enclosing variable in local scope\n",
        "\n",
        "def my_function():\n",
        "  scope =\"enclosing\"\n",
        "\n",
        "  def my_inner_function():\n",
        "    nonlocal scope\n",
        "    print(scope)\n",
        "    scope = \"ENCLOSING (changed in local scope)\"\n",
        "\n",
        "  my_inner_function()\n",
        "  print(scope)\n",
        "  \n",
        "my_function()\n"
      ],
      "execution_count": null,
      "outputs": []
    },
    {
      "cell_type": "markdown",
      "metadata": {
        "id": "5rXvCkCrMVIb"
      },
      "source": [
        "> Useful built-in functions"
      ]
    },
    {
      "cell_type": "code",
      "metadata": {
        "id": "xkjgBjYbTFci"
      },
      "source": [
        "print(\"Min of 1,88,-4 is: \", min(1,88,-4))\n",
        "print(\"Maxof 1,88,-4 is: \", max(1,88,-4))\n",
        "\n",
        "print(\"The absolute value of -4 is \", abs(-4))\n",
        "\n",
        "print(\"Round 4.54649 to next int\", round(4.54649))\n",
        "print(\"Round 4.54649 to 2 decimals\", round(4.54649, 2))\n",
        "\n",
        "print(\"Sort the letters of a string\", sorted(\"akfuerbci\"))\n",
        "print(\"Sort a list\", sorted([25,1,3,100,8,1,10000]))"
      ],
      "execution_count": null,
      "outputs": []
    },
    {
      "cell_type": "code",
      "metadata": {
        "id": "j9JF2FiPMccT"
      },
      "source": [
        "myList = [25,1,3,100,8,1,10000]\n",
        "\n",
        "print(\"List has\", len(myList),\" items\")\n",
        "print(\"Min: \", min(myList))\n",
        "print(\"Max: \", max(myList))\n",
        "print(\"Sum: \", sum(myList))"
      ],
      "execution_count": null,
      "outputs": []
    },
    {
      "cell_type": "markdown",
      "metadata": {
        "id": "i5IQHIG9470b"
      },
      "source": [
        "## Importing"
      ]
    },
    {
      "cell_type": "code",
      "metadata": {
        "id": "Dd4oAubZ4-1P"
      },
      "source": [
        "# get access to a module’s namespace by using the module’s name as a prefix (recommended)\n",
        "\n",
        "import math\n",
        "\n",
        "x,y = 5, 2\n",
        "\n",
        "print(math.pow(x,y))\n",
        "print(math.remainder(x,y))"
      ],
      "execution_count": null,
      "outputs": []
    },
    {
      "cell_type": "code",
      "metadata": {
        "id": "dSWjYZEc5y_d"
      },
      "source": [
        "# get access to a module’s namespace by using an alias as a prefix (recommended)\n",
        "\n",
        "import math as m\n",
        "\n",
        "x,y = 5, 2\n",
        "\n",
        "print(m.pow(x,y))\n",
        "print(m.remainder(x,y))"
      ],
      "execution_count": null,
      "outputs": []
    },
    {
      "cell_type": "code",
      "metadata": {
        "id": "a_ovtMT16I6d"
      },
      "source": [
        "# import all the names from a module directly in your current namespace (not recommended)\n",
        "\n",
        "from math import *\n",
        "\n",
        "x,y = 5, 2\n",
        "\n",
        "print(pow(x,y))\n",
        "print(remainder(x,y))"
      ],
      "execution_count": null,
      "outputs": []
    },
    {
      "cell_type": "code",
      "metadata": {
        "id": "uah9LNt46XFp"
      },
      "source": [
        "# Any function with the same name will overwrite the definition of the function \n",
        "# imported from the module. This will make the imported function unusable.\n",
        "\n",
        "from math import *\n",
        "\n",
        "x,y = 5, 2\n",
        "\n",
        "def pow(x,y):\n",
        "  print(\"Wrong pow() called\")\n",
        "\n",
        "pow(x,y)"
      ],
      "execution_count": null,
      "outputs": []
    },
    {
      "cell_type": "code",
      "metadata": {
        "id": "HnmeuDzY53MN"
      },
      "source": [
        "# import specific names from a module directly in your current namespace (recommended for specific use cases)\n",
        "\n",
        "from math import pow, remainder\n",
        "\n",
        "x,y = 5, 2\n",
        "\n",
        "print(pow(x,y))\n",
        "print(remainder(x,y))"
      ],
      "execution_count": null,
      "outputs": []
    },
    {
      "cell_type": "code",
      "metadata": {
        "id": "v8p7Jn179xqw"
      },
      "source": [
        "# Any function with the same name will overwrite the definition of the function \n",
        "# imported from the module. This will make the imported function unusable.\n",
        "\n",
        "from math import pow, remainder\n",
        "\n",
        "x,y = 5, 2\n",
        "\n",
        "def pow(x,y):\n",
        "  print(\"Wrong pow() called\")\n",
        "\n",
        "pow(x,y)"
      ],
      "execution_count": null,
      "outputs": []
    }
  ]
}